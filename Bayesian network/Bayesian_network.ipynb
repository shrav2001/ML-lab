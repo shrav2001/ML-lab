{
  "nbformat": 4,
  "nbformat_minor": 0,
  "metadata": {
    "colab": {
      "name": "Bayesian_network.ipynb",
      "provenance": []
    },
    "kernelspec": {
      "name": "python3",
      "display_name": "Python 3"
    },
    "language_info": {
      "name": "python"
    }
  },
  "cells": [
    {
      "cell_type": "markdown",
      "metadata": {
        "id": "NoZ1OdfaoN9u"
      },
      "source": [
        "**LAB 5 - Bayesian network <br>\n",
        "SHIKHA N<br>\n",
        "1BM18CS149**"
      ]
    },
    {
      "cell_type": "code",
      "metadata": {
        "id": "wVOZQzShqBgZ"
      },
      "source": [
        "#!python -m pip install pgmpy"
      ],
      "execution_count": 1,
      "outputs": []
    },
    {
      "cell_type": "code",
      "metadata": {
        "colab": {
          "base_uri": "https://localhost:8080/"
        },
        "id": "0KOjiCCMoFrF",
        "outputId": "dfa0dd39-4639-4d94-e7e5-34310e21c9d3"
      },
      "source": [
        "import numpy as np\n",
        "import pandas as pd\n",
        "from pgmpy.estimators import MaximumLikelihoodEstimator\n",
        "from pgmpy.models import BayesianModel\n",
        "from pgmpy.inference import VariableElimination"
      ],
      "execution_count": 2,
      "outputs": [
        {
          "output_type": "stream",
          "text": [
            "/usr/local/lib/python3.7/dist-packages/statsmodels/tools/_testing.py:19: FutureWarning: pandas.util.testing is deprecated. Use the functions in the public API at pandas.testing instead.\n",
            "  import pandas.util.testing as tm\n"
          ],
          "name": "stderr"
        }
      ]
    },
    {
      "cell_type": "code",
      "metadata": {
        "colab": {
          "base_uri": "https://localhost:8080/"
        },
        "id": "yfSCUTfFomvP",
        "outputId": "73bb97e0-df52-4a33-af56-2052701a3b7a"
      },
      "source": [
        "data = pd.read_csv('heart.csv')\n",
        "data = data.replace('?',np.nan)\n",
        "print(data.head())\n",
        "print('\\nAttributes are:\\n')\n",
        "print(data.dtypes)"
      ],
      "execution_count": 3,
      "outputs": [
        {
          "output_type": "stream",
          "text": [
            "   age  sex  cp  trestbps  chol  ...  oldpeak  slope  ca  thal  heartdisease\n",
            "0   63    1   1       145   233  ...      2.3      3   0     6             0\n",
            "1   67    1   4       160   286  ...      1.5      2   3     3             2\n",
            "2   67    1   4       120   229  ...      2.6      2   2     7             1\n",
            "3   37    1   3       130   250  ...      3.5      3   0     3             0\n",
            "4   41    0   2       130   204  ...      1.4      1   0     3             0\n",
            "\n",
            "[5 rows x 14 columns]\n",
            "\n",
            "Attributes are:\n",
            "\n",
            "age               int64\n",
            "sex               int64\n",
            "cp                int64\n",
            "trestbps          int64\n",
            "chol              int64\n",
            "fbs               int64\n",
            "restecg           int64\n",
            "thalach           int64\n",
            "exang             int64\n",
            "oldpeak         float64\n",
            "slope             int64\n",
            "ca               object\n",
            "thal             object\n",
            "heartdisease      int64\n",
            "dtype: object\n"
          ],
          "name": "stdout"
        }
      ]
    },
    {
      "cell_type": "code",
      "metadata": {
        "colab": {
          "base_uri": "https://localhost:8080/"
        },
        "id": "SDzoVF-qqqLQ",
        "outputId": "71e6f7cd-bc1c-4387-8273-f06ef5976bb4"
      },
      "source": [
        "model =BayesianModel([('age','heartdisease'),('sex','heartdisease'),(\n",
        "'exang','heartdisease'),('cp','heartdisease'),('heartdisease','restecg'),\n",
        "('heartdisease','chol')])\n",
        "\n",
        "model.fit(data,estimator=MaximumLikelihoodEstimator)\n",
        "\n",
        "HeartDisease_infer = VariableElimination(model)\n",
        "\n",
        "print('\\n 1.Probability of HeartDisease given evidence=restecg(resting ECG results)=1')\n",
        "q1=HeartDisease_infer.query(variables=['heartdisease'],evidence={'restecg':1})\n",
        "print(q1)\n",
        "\n",
        "\n",
        "print('\\n 2.Probability of HeartDisease given evidence= cp=1(typical angina chest pain)')\n",
        "q2=HeartDisease_infer.query(variables=['heartdisease'],evidence={'cp':1})\n",
        "print(q2)\n"
      ],
      "execution_count": 4,
      "outputs": [
        {
          "output_type": "stream",
          "text": [
            "Finding Elimination Order: : 100%|██████████| 5/5 [00:00<00:00, 722.48it/s]\n",
            "Eliminating: age: 100%|██████████| 5/5 [00:00<00:00, 90.73it/s]"
          ],
          "name": "stderr"
        },
        {
          "output_type": "stream",
          "text": [
            "\n",
            " 1.Probability of HeartDisease given evidence=restecg(resting ECG results)=1\n",
            "+-----------------+---------------------+\n",
            "| heartdisease    |   phi(heartdisease) |\n",
            "+=================+=====================+\n",
            "| heartdisease(0) |              0.1012 |\n",
            "+-----------------+---------------------+\n",
            "| heartdisease(1) |              0.0000 |\n",
            "+-----------------+---------------------+\n",
            "| heartdisease(2) |              0.2392 |\n",
            "+-----------------+---------------------+\n",
            "| heartdisease(3) |              0.2015 |\n",
            "+-----------------+---------------------+\n",
            "| heartdisease(4) |              0.4581 |\n",
            "+-----------------+---------------------+\n",
            "\n",
            " 2.Probability of HeartDisease given evidence= cp=1(typical angina chest pain)\n"
          ],
          "name": "stdout"
        },
        {
          "output_type": "stream",
          "text": [
            "\n",
            "Finding Elimination Order: : 100%|██████████| 5/5 [00:00<00:00, 890.40it/s]\n",
            "Eliminating: restecg: 100%|██████████| 5/5 [00:00<00:00, 106.93it/s]"
          ],
          "name": "stderr"
        },
        {
          "output_type": "stream",
          "text": [
            "+-----------------+---------------------+\n",
            "| heartdisease    |   phi(heartdisease) |\n",
            "+=================+=====================+\n",
            "| heartdisease(0) |              0.2982 |\n",
            "+-----------------+---------------------+\n",
            "| heartdisease(1) |              0.2027 |\n",
            "+-----------------+---------------------+\n",
            "| heartdisease(2) |              0.1743 |\n",
            "+-----------------+---------------------+\n",
            "| heartdisease(3) |              0.1620 |\n",
            "+-----------------+---------------------+\n",
            "| heartdisease(4) |              0.1628 |\n",
            "+-----------------+---------------------+\n"
          ],
          "name": "stdout"
        },
        {
          "output_type": "stream",
          "text": [
            "\n"
          ],
          "name": "stderr"
        }
      ]
    },
    {
      "cell_type": "code",
      "metadata": {
        "id": "I9vHtIGktztU"
      },
      "source": [
        ""
      ],
      "execution_count": 4,
      "outputs": []
    }
  ]
}