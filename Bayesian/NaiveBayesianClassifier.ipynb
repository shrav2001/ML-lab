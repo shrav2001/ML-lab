{
  "nbformat": 4,
  "nbformat_minor": 0,
  "metadata": {
    "colab": {
      "name": "NaiveBayesianClassifier.ipynb",
      "provenance": []
    },
    "kernelspec": {
      "name": "python3",
      "display_name": "Python 3"
    },
    "language_info": {
      "name": "python"
    }
  },
  "cells": [
    {
      "cell_type": "markdown",
      "metadata": {
        "id": "xlRBy9zz6D5l"
      },
      "source": [
        "#### LAB4 - Naive Bayesian classifier\n",
        "#### Shikha N\n",
        "#### 1BM18CS149"
      ]
    },
    {
      "cell_type": "code",
      "metadata": {
        "id": "e050Uc3NwFDH"
      },
      "source": [
        "import csv\n",
        "import random\n",
        "import math\n",
        "import pandas as pd\n",
        "import pandas as pd\n",
        "from sklearn.model_selection import train_test_split\n",
        "from sklearn.naive_bayes import GaussianNB\n",
        "from sklearn import metrics"
      ],
      "execution_count": 1,
      "outputs": []
    },
    {
      "cell_type": "markdown",
      "metadata": {
        "id": "ZawX8X846X3f"
      },
      "source": [
        "Using GaussianNB from sklearn"
      ]
    },
    {
      "cell_type": "code",
      "metadata": {
        "id": "rQKyO5Zb6mWz"
      },
      "source": [
        "df = pd.read_csv(\"pima_indian1.csv\")\n",
        "feature_col_names = ['num_preg', 'glucose_conc', 'diastolic_bp', 'thickness', 'insulin', 'bmi', 'diab_pred', 'age']\n",
        "predicted_class_names = ['diabetes']"
      ],
      "execution_count": 2,
      "outputs": []
    },
    {
      "cell_type": "code",
      "metadata": {
        "colab": {
          "base_uri": "https://localhost:8080/"
        },
        "id": "kHcqNPp96ufw",
        "outputId": "3cdbb780-6b75-4225-fd75-0903a0c739a6"
      },
      "source": [
        "X = df[feature_col_names].values # these are factors for the prediction\n",
        "y = df[predicted_class_names].values # this is what we want to predict\n",
        "\n",
        "#splitting the dataset into train and test data\n",
        "xtrain,xtest,ytrain,ytest=train_test_split(X,y,test_size=0.33)\n",
        "\n",
        "print ('\\n The total number of Training Data :',ytrain.shape)\n",
        "print ('\\n The total number of Test Data :',ytest.shape)\n",
        "\n",
        "# Training Naive Bayes (NB) classifier.\n",
        "clf = GaussianNB().fit(xtrain,ytrain.ravel())\n",
        "predicted = clf.predict(xtest)\n",
        "predictTestData= clf.predict([[6,148,72,35,0,33.6,0.627,50]])\n",
        "\n",
        "print('\\n Confusion matrix')\n",
        "print(metrics.confusion_matrix(ytest,predicted))\n",
        "\n",
        "print('\\n Accuracy of the classifier is',round(metrics.accuracy_score(ytest,predicted) ,3))\n",
        "\n",
        "print(\"\\nPredicted Value for individual Test Data:\", predictTestData)"
      ],
      "execution_count": 12,
      "outputs": [
        {
          "output_type": "stream",
          "text": [
            "\n",
            " The total number of Training Data : (514, 1)\n",
            "\n",
            " The total number of Test Data : (254, 1)\n",
            "\n",
            " Confusion matrix\n",
            "[[152  21]\n",
            " [ 30  51]]\n",
            "\n",
            " Accuracy of the classifier is 0.799\n",
            "\n",
            "Predicted Value for individual Test Data: [1]\n"
          ],
          "name": "stdout"
        }
      ]
    },
    {
      "cell_type": "markdown",
      "metadata": {
        "id": "cUGnSWhp7DFB"
      },
      "source": [
        "Implementation of Naive Bayesian classifier"
      ]
    },
    {
      "cell_type": "code",
      "metadata": {
        "id": "Ctd86YkxwM2x"
      },
      "source": [
        "def loadcsv(filename):\n",
        "  lines = csv.reader(open(filename, \"r\"))\n",
        "  dataset = list(lines)\n",
        "  for i in range(len(dataset)):\n",
        "    dataset[i] = [float(x) for x in dataset[i]]\n",
        "  return dataset\n",
        "\n",
        "def splitdataset(dataset, splitratio):\n",
        "  trainsize = int(len(dataset) * splitratio)\n",
        "  trainset = []\n",
        "  copy = list(dataset)\n",
        "  while len(trainset) < trainsize:\n",
        "    index = random.randrange(len(copy))\n",
        "    trainset.append(copy.pop(index))\n",
        "\n",
        "  return [trainset, copy]\n",
        "\n",
        "def separatebyclass(dataset):\n",
        "  separated = {}\n",
        "  for i in range(len(dataset)):\n",
        "    vector = dataset[i]\n",
        "    if (vector[-1] not in separated):\n",
        "      separated[vector[-1]] = []\n",
        "    separated[vector[-1]].append(vector)\n",
        "  return separated\n",
        "\n",
        "def mean(numbers):\n",
        "  return sum(numbers)/float(len(numbers))\n",
        "\n",
        "def stdev(numbers):\n",
        "  avg = mean(numbers)\n",
        "  variance = (sum([pow(x-avg,2) for x in numbers]))/(float(len(numbers)-1))\n",
        "  return math.sqrt(variance)"
      ],
      "execution_count": 4,
      "outputs": []
    },
    {
      "cell_type": "code",
      "metadata": {
        "id": "v0Y1uiabxqxe"
      },
      "source": [
        "def summarize(dataset): \n",
        "  summaries = [(mean(attribute), stdev(attribute)) for attribute in zip(*dataset)]\n",
        "  del summaries[-1] #excluding labels +ve or -ve\n",
        "  return summaries\n",
        "\n",
        "def summarizebyclass(dataset):\n",
        "  separated = separatebyclass(dataset);\n",
        "  summaries = {}\n",
        "  for classvalue, instances in separated.items():\n",
        "    summaries[classvalue] = summarize(instances)\n",
        "  return summaries\n",
        "\n",
        "def calculateprobability(x, mean, stdev):\n",
        "  exponent = math.exp(-(math.pow(x-mean,2)/(2*math.pow(stdev,2))))\n",
        "  return (1 / (math.sqrt(2*math.pi) * stdev)) * exponent\n",
        "\n",
        "def calculateclassprobabilities(summaries, inputvector):\n",
        "  # probabilities contains the all prob of all class of test data\n",
        "  probabilities = {}\n",
        "  for classvalue, classsummaries in summaries.items():\n",
        "    probabilities[classvalue] = 1\n",
        "    for i in range(len(classsummaries)):\n",
        "      mean, stdev = classsummaries[i]\n",
        "      x = inputvector[i]\n",
        "      probabilities[classvalue] *= calculateprobability(x, mean, stdev);#use normal dist\n",
        "  return probabilities\n",
        "\n",
        "\n",
        "def predict(summaries, inputvector): #training and test data is passed\n",
        "  probabilities = calculateclassprobabilities(summaries,inputvector)\n",
        "  bestLabel, bestProb = None, -1\n",
        "  for classvalue, probability in probabilities.items():\n",
        "    if bestLabel is None or probability > bestProb:\n",
        "      bestProb = probability\n",
        "      bestLabel = classvalue\n",
        "  return bestLabel\n",
        "\n",
        "\n",
        "def getpredictions(summaries, testset):\n",
        "  predictions = []\n",
        "  for i in range(len(testset)):\n",
        "    result = predict(summaries, testset[i])\n",
        "    predictions.append(result)\n",
        "  return predictions\n",
        "\n",
        "\n",
        "def getaccuracy(testset, predictions):\n",
        "  correct = 0\n",
        "  for i in range(len(testset)):\n",
        "    if testset[i][-1] == predictions[i]:\n",
        "      correct += 1\n",
        "  return (correct/float(len(testset))) * 100.0"
      ],
      "execution_count": 5,
      "outputs": []
    },
    {
      "cell_type": "code",
      "metadata": {
        "id": "sRt3vbZw6BcM"
      },
      "source": [
        "def main():\n",
        "  filename = 'pima_indian2.csv'\n",
        "  splitratio = 0.67\n",
        "  dataset = loadcsv(filename)\n",
        "  trainingset, testset = splitdataset(dataset, splitratio)\n",
        "  print('Split {0} rows into train={1} and test={2}rows'.format(len(dataset), len(trainingset), len(testset)))\n",
        "  # prepare model\n",
        "  summaries = summarizebyclass(trainingset);\n",
        "  # test model\n",
        "  predictions = getpredictions(summaries, testset) #find the predictions of test data with the training data\n",
        "  accuracy = getaccuracy(testset, predictions)\n",
        "  print('Accuracy of the classifier is :{0}%'.format(accuracy))"
      ],
      "execution_count": 6,
      "outputs": []
    },
    {
      "cell_type": "code",
      "metadata": {
        "colab": {
          "base_uri": "https://localhost:8080/"
        },
        "id": "5oyhDNc1yRtz",
        "outputId": "6bfe1d66-7d5c-49ab-c54d-df1f5cd44fb0"
      },
      "source": [
        "main()"
      ],
      "execution_count": 7,
      "outputs": [
        {
          "output_type": "stream",
          "text": [
            "Split 768 rows into train=514 and test=254rows\n",
            "Accuracy of the classifier is :72.83464566929135%\n"
          ],
          "name": "stdout"
        }
      ]
    },
    {
      "cell_type": "code",
      "metadata": {
        "id": "5draU7aD1GmJ"
      },
      "source": [
        ""
      ],
      "execution_count": 7,
      "outputs": []
    }
  ]
}